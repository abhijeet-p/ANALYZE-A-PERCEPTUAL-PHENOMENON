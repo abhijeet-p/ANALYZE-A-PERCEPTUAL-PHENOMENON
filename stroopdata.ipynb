{
 "cells": [
  {
   "cell_type": "markdown",
   "metadata": {},
   "source": [
    "__Question 1. What is our independent variable? What is our dependent variable?\n",
    "<br>Answer:-__  \n",
    "> Independent Variable : Incongruent or Congruent word condition.<br>\n",
    "Dependent Variable : Response time to name the ink colours."
   ]
  },
  {
   "cell_type": "markdown",
   "metadata": {},
   "source": [
    "__Question 2. What is an appropriate set of hypotheses for this task? What kind of statistical test do you expect to perform? Justify your choices <br>\n",
    "Answer:-__ \n",
    ">In psychology, the Stroop effect is a demonstration of interference in the reaction time of a task. When the name of a colour is printed in a colour that is not denoted by the name (Incongruent word condition), naming the colour of the word takes longer and is more prone to errors than when the color of the ink matches the name of the colour (Congruent word condition) therefore our,<br>\n",
    "    __• H0 (Null Hypothesis)__ : The Incongruent word condition will either have no significant difference or decrease in the response time to recognize the colour.<br>\n",
    "    __• HA (Alternative Hypothesis)__ : The Incongruent word condition will increase the the response time to recognize the colour.<br>\n",
    "As we have mentioned here,<br>\n",
    "our  Null Hypothesis would be    __H0 : μi ≤ μc__ <br>\n",
    "and  Alternative Hypothesis       __HA  : μi > μc__ <br>\n",
    "    whereas  “ μi ” is the population mean of time taken for the Incongruent words condition and  “μc” is the  population mean of time taken for the Congruent words condition.  <br>                                                    As we do not know about the population parameters and each participant of our sample set measured response time twice under the different (Congruent and  Incongruent) conditions .Hence we will use the depedent t-test for paired samples and considering our hypotheses our t-test will be __one-tailed t-test__  that the mean of participant’s Incongruent words condition sample will be significantly greater than it’s Congruent words condition mean .\n",
    "<br>\n",
    "<br>\n"
   ]
  },
  {
   "cell_type": "markdown",
   "metadata": {},
   "source": [
    "__Question 3. Report some descriptive statistics regarding this dataset. Include at least one measure of central tendency and at least one measure of variability.<br>\n",
    "Answer:-__         \n",
    ">_Measure of Central Tendency_<br>\n",
    "__Mean : __ we calculate the sample mean for both our conditions (Congruent & Incongruent) and having dependent samples we will also calculate it for their absolute difference with the formula “ x̄ = ( Σ xi ) / n “ the values be as follows:<br>\n",
    "- Mean of Congruent = 14.05<br>\n",
    "- Mean of Incongruent = 22.02<br>\n",
    "- Mean of Differences(point estimate for μi-μc) = 7.96<br>\n"
   ]
  },
  {
   "cell_type": "code",
   "execution_count": 8,
   "metadata": {},
   "outputs": [
    {
     "data": {
      "image/png": "[encoded data removed]",
      "text/plain": [
       "<matplotlib.figure.Figure at 0x7fbb16b869e8>"
      ]
     },
     "metadata": {},
     "output_type": "display_data"
    },
    {
     "data": {
      "image/png": "[encoded data removed]",
      "text/plain": [
       "<matplotlib.figure.Figure at 0x7fbb4aad7da0>"
      ]
     },
     "metadata": {},
     "output_type": "display_data"
    }
   ],
   "source": [
    "cong,inco = stroop('./stroopdata.csv')"
   ]
  },
  {
   "cell_type": "markdown",
   "metadata": {},
   "source": [
    "> but as you go through the these histograms of our both the conditions data seems slightly positively skewed, thus the __Median__ we will be the better measure of central tendency and the calculations are given below : <br>\n",
    "- Median of Congruent = 14.36 <br>\n",
    "- Median of Incongruent = 21.02 <br>\n",
    "- Median of  Differences = 7.66 <br>"
   ]
  },
  {
   "cell_type": "markdown",
   "metadata": {},
   "source": [
    "> _Measure of Variability_<br>\n",
    "__Sample Standard Deviation :__and now we will calculate the sample standard deviation for both our conditions (Congruent & Incongruent) and having dependent samples we will also calculate it for their absolute difference with the formula “S= √[ ∑((x - x̄)^2)/ (N-1) ] “ and the results are as follows :<br>\n",
    "- Sample Standard Deviation of Congruent = 3.56<br>\n",
    "- Sample Standard Deviation of Incongruent = 4.80<br>\n",
    "- Sample Standard Deviation of Differences = 4.86<br>\n",
    "and by considering our these Sample Standard Deviations our __Variance__ will be as follows:<br>\n",
    "- Variance of Congruent = 12.67<br>\n",
    "- Variance of Incongruent = 23.01<br>\n",
    "- Variance of Differences = 23.66<br>\n",
    "And we also calculated the __Standard Error__ by dividing the Sample Standard Deviation by the Square root of our sample size and values are as follows :<br>\n",
    "- Standard Error of  Congruent =  0.73<br>\n",
    "- Standard Error of  Incongruent = 0.98<br>\n",
    "- Standard Error of Differences = 0.99<br>\n",
    "these all calculations are done in Google Spreadsheet and the link to the spreadsheet is given below:<br>\n",
    "__[Google Spreadsheet](https://docs.google.com/spreadsheets/d/1HWKRlJVVdR13A_wA-SC2qLv-5U9LUMCqSdd2AZDy3o0/edit#gid=1299780014)__<br>\n",
    "and also calculations are verified and recalculated by using python library modules as follows :"
   ]
  },
  {
   "cell_type": "code",
   "execution_count": 9,
   "metadata": {},
   "outputs": [],
   "source": [
    "import csv # read and write csv files\n",
    "import pandas as se # load library\n",
    "%matplotlib inline"
   ]
  },
  {
   "cell_type": "code",
   "execution_count": 10,
   "metadata": {},
   "outputs": [],
   "source": [
    "stref = se.read_csv(\"stroopdata.csv\")"
   ]
  },
  {
   "cell_type": "code",
   "execution_count": 11,
   "metadata": {},
   "outputs": [
    {
     "data": {
      "text/plain": [
       "14.05"
      ]
     },
     "execution_count": 11,
     "metadata": {},
     "output_type": "execute_result"
    }
   ],
   "source": [
    "round((stref['Congruent']).mean(),2)"
   ]
  },
  {
   "cell_type": "code",
   "execution_count": 12,
   "metadata": {},
   "outputs": [
    {
     "data": {
      "text/plain": [
       "22.02"
      ]
     },
     "execution_count": 12,
     "metadata": {},
     "output_type": "execute_result"
    }
   ],
   "source": [
    "round((stref['Incongruent']).mean(),2)"
   ]
  },
  {
   "cell_type": "code",
   "execution_count": 13,
   "metadata": {},
   "outputs": [
    {
     "data": {
      "text/plain": [
       "14.36"
      ]
     },
     "execution_count": 13,
     "metadata": {},
     "output_type": "execute_result"
    }
   ],
   "source": [
    "round((stref['Congruent']).median(),2)"
   ]
  },
  {
   "cell_type": "code",
   "execution_count": 14,
   "metadata": {},
   "outputs": [
    {
     "data": {
      "text/plain": [
       "21.02"
      ]
     },
     "execution_count": 14,
     "metadata": {},
     "output_type": "execute_result"
    }
   ],
   "source": [
    "round((stref['Incongruent']).median(),2)"
   ]
  },
  {
   "cell_type": "code",
   "execution_count": 15,
   "metadata": {},
   "outputs": [
    {
     "data": {
      "text/plain": [
       "3.56"
      ]
     },
     "execution_count": 15,
     "metadata": {},
     "output_type": "execute_result"
    }
   ],
   "source": [
    "round((stref['Congruent']).std(),2)"
   ]
  },
  {
   "cell_type": "code",
   "execution_count": 16,
   "metadata": {},
   "outputs": [
    {
     "data": {
      "text/plain": [
       "4.8"
      ]
     },
     "execution_count": 16,
     "metadata": {},
     "output_type": "execute_result"
    }
   ],
   "source": [
    "round((stref['Incongruent']).std(),2)"
   ]
  },
  {
   "cell_type": "code",
   "execution_count": 17,
   "metadata": {},
   "outputs": [
    {
     "data": {
      "text/html": [
       "<div>\n",
       "<style scoped>\n",
       "    .dataframe tbody tr th:only-of-type {\n",
       "        vertical-align: middle;\n",
       "    }\n",
       "\n",
       "    .dataframe tbody tr th {\n",
       "        vertical-align: top;\n",
       "    }\n",
       "\n",
       "    .dataframe thead th {\n",
       "        text-align: right;\n",
       "    }\n",
       "</style>\n",
       "<table border=\"1\" class=\"dataframe\">\n",
       "  <thead>\n",
       "    <tr style=\"text-align: right;\">\n",
       "      <th></th>\n",
       "      <th>Congruent</th>\n",
       "      <th>Incongruent</th>\n",
       "    </tr>\n",
       "  </thead>\n",
       "  <tbody>\n",
       "    <tr>\n",
       "      <th>count</th>\n",
       "      <td>24.000000</td>\n",
       "      <td>24.000000</td>\n",
       "    </tr>\n",
       "    <tr>\n",
       "      <th>mean</th>\n",
       "      <td>14.051125</td>\n",
       "      <td>22.015917</td>\n",
       "    </tr>\n",
       "    <tr>\n",
       "      <th>std</th>\n",
       "      <td>3.559358</td>\n",
       "      <td>4.797057</td>\n",
       "    </tr>\n",
       "    <tr>\n",
       "      <th>min</th>\n",
       "      <td>8.630000</td>\n",
       "      <td>15.687000</td>\n",
       "    </tr>\n",
       "    <tr>\n",
       "      <th>25%</th>\n",
       "      <td>11.895250</td>\n",
       "      <td>18.716750</td>\n",
       "    </tr>\n",
       "    <tr>\n",
       "      <th>50%</th>\n",
       "      <td>14.356500</td>\n",
       "      <td>21.017500</td>\n",
       "    </tr>\n",
       "    <tr>\n",
       "      <th>75%</th>\n",
       "      <td>16.200750</td>\n",
       "      <td>24.051500</td>\n",
       "    </tr>\n",
       "    <tr>\n",
       "      <th>max</th>\n",
       "      <td>22.328000</td>\n",
       "      <td>35.255000</td>\n",
       "    </tr>\n",
       "  </tbody>\n",
       "</table>\n",
       "</div>"
      ],
      "text/plain": [
       "       Congruent  Incongruent\n",
       "count  24.000000    24.000000\n",
       "mean   14.051125    22.015917\n",
       "std     3.559358     4.797057\n",
       "min     8.630000    15.687000\n",
       "25%    11.895250    18.716750\n",
       "50%    14.356500    21.017500\n",
       "75%    16.200750    24.051500\n",
       "max    22.328000    35.255000"
      ]
     },
     "execution_count": 17,
     "metadata": {},
     "output_type": "execute_result"
    }
   ],
   "source": [
    "stref.describe()"
   ]
  },
  {
   "cell_type": "markdown",
   "metadata": {},
   "source": [
    "__Question 4. Provide one or two visualizations that show the distribution of the sample data. Write one or two sentences noting what you observe about the plot or plots.<br>\n",
    "Answer: __"
   ]
  },
  {
   "cell_type": "code",
   "execution_count": 18,
   "metadata": {},
   "outputs": [],
   "source": [
    "import matplotlib.pyplot as plt # load library"
   ]
  },
  {
   "cell_type": "code",
   "execution_count": 19,
   "metadata": {},
   "outputs": [],
   "source": [
    "def stroop(datafile) :\n",
    "    \n",
    "    \"\"\"\n",
    "    This function reads the stroopdata file which is having the data about response time taken to name the \n",
    "    ink colours by each participant in both of the Congruent and Incongruent words conditions and and \n",
    "    creates a histogram respectively.\n",
    "    \"\"\"\n",
    "    \n",
    "    with open(datafile,'r') as f_in:\n",
    "        csv_reader = csv.DictReader(f_in)\n",
    "        cong = []\n",
    "        inco = []\n",
    "        \n",
    "        for row in csv_reader :\n",
    "            cong.append(float(row['Congruent']))\n",
    "            inco.append(float(row['Incongruent']))\n",
    "    cong.sort()\n",
    "    inco.sort()\n",
    "    \n",
    "    plt.hist(cong,bins=range(int(min(cong)), int(max(cong))+1,1),label='Congruent condition')\n",
    "    plt.title('Stroop effect')\n",
    "    plt.xlabel('response_time')\n",
    "    plt.legend(loc='upper right')\n",
    "    plt.show()\n",
    "    \n",
    "    plt.hist(inco,bins=range(int(min(inco)), int(max(inco))+1,1),label='Incongruent condition')\n",
    "    plt.title('Stroop effect')\n",
    "    plt.xlabel('response_time')\n",
    "    plt.legend(loc='upper right')\n",
    "    plt.show()\n",
    "    return (cong,inco)"
   ]
  },
  {
   "cell_type": "code",
   "execution_count": 20,
   "metadata": {},
   "outputs": [
    {
     "data": {
      "image/png": "[encoded data removed]",
      "text/plain": [
       "<matplotlib.figure.Figure at 0x7fbb16b01c88>"
      ]
     },
     "metadata": {},
     "output_type": "display_data"
    },
    {
     "data": {
      "image/png": "[encoded data removed]",
      "text/plain": [
       "<matplotlib.figure.Figure at 0x7fbb16c036a0>"
      ]
     },
     "metadata": {},
     "output_type": "display_data"
    }
   ],
   "source": [
    "cong,inco = stroop('./stroopdata.csv')"
   ]
  },
  {
   "cell_type": "markdown",
   "metadata": {},
   "source": [
    "As you notice these histograms they seems bit of positively skewed distributions, which is pulling the mean to positive side but as you look upon our Mean values they are much closer to the peak which would indicate to the Normal Distribution.  "
   ]
  },
  {
   "cell_type": "code",
   "execution_count": 26,
   "metadata": {},
   "outputs": [
    {
     "data": {
      "text/plain": [
       "RangeIndex(start=0, stop=24, step=1)"
      ]
     },
     "execution_count": 26,
     "metadata": {},
     "output_type": "execute_result"
    }
   ],
   "source": [
    "stref.index"
   ]
  },
  {
   "cell_type": "code",
   "execution_count": 27,
   "metadata": {},
   "outputs": [],
   "source": [
    "stref['Participant']=stref.index+1"
   ]
  },
  {
   "cell_type": "code",
   "execution_count": 28,
   "metadata": {},
   "outputs": [],
   "source": [
    "import numpy as np\n",
    "def scatterp(i,j):\n",
    "    \"\"\"\n",
    "    This function reads the stroopdata file as per the arguments are passed which\n",
    "    are the partipant and the respective words condition and creates a scatter plot according \n",
    "    to given arguments.\n",
    "    \"\"\"\n",
    "    x,y = stref[i],stref[j]\n",
    "    colors = 'green'\n",
    "    area = np.pi*15\n",
    "    #colors = np.random.rand(N)\n",
    "    ##area = np.pi * (15 * np.random.rand(N))**2\n",
    "    fig = plt.figure()\n",
    "\n",
    "    condition = 'Response Time ('+j+')'\n",
    "    plt.xticks(np.arange(min(x), max(x)+1, 1))\n",
    "    plt.yticks(np.arange(0, 35, 2))\n",
    "    plt.scatter(x, y,s=area,c=colors, alpha=0.5)\n",
    "    plt.title('Stroop effect')\n",
    "    plt.xlabel(i)\n",
    "    plt.ylabel(condition)\n",
    "    plt.ylim([0,max(y)+1])\n",
    "    plt.xlim([0,max(x)+1])\n",
    "    plt.show()"
   ]
  },
  {
   "cell_type": "code",
   "execution_count": 29,
   "metadata": {},
   "outputs": [
    {
     "data": {
      "image/png": "[encoded data removed]",
      "text/plain": [
       "<matplotlib.figure.Figure at 0x7fbb16be6b38>"
      ]
     },
     "metadata": {},
     "output_type": "display_data"
    },
    {
     "data": {
      "image/png": "[encoded data removed]",
      "text/plain": [
       "<matplotlib.figure.Figure at 0x7fbb169497f0>"
      ]
     },
     "metadata": {},
     "output_type": "display_data"
    }
   ],
   "source": [
    "scatterp('Participant','Congruent')\n",
    "scatterp('Participant','Incongruent')"
   ]
  },
  {
   "cell_type": "markdown",
   "metadata": {},
   "source": [
    "As you look through these scatterplots, In Congruent word condition's scatterplot the distribution is about between 8 to 22 and in the second Incongruent word condition's scatterplot has most of the distribution between like 15 to 26 and has two outliers around 35 that would possibly skew our distribution's mean value in order to make it less representative of our data.thus we can clearly see that the mean of the Participant's Response time to recognize the colour in Incongruent word condition is much greater than the Congruent word condition one.\n",
    "<br>\n",
    "<br>"
   ]
  },
  {
   "cell_type": "markdown",
   "metadata": {},
   "source": [
    "__Question 5. Now, perform the statistical test and report your results. What is your confidence level and your critical statistic value? Do you reject the null hypothesis or fail to reject it? Come to a conclusion in terms of the experiment task. Did the results match up with your expectations?<br>Answer:__ We have done all the related calculations in the spreadsheet and link to the spreadsheet is here :\n",
    " > __[Google Spreadsheet](https://docs.google.com/spreadsheets/d/1HWKRlJVVdR13A_wA-SC2qLv-5U9LUMCqSdd2AZDy3o0/edit#gid=1299780014)__<br>\n",
    "We first calculated the Mean of the Differences of sample set which is basically the __Point Estimate for μi-μc__ which turns out to be = 7.964 whereas sample size is 24,<br>\n",
    "__Sample Standard Deviation of Differences__ = 4.865<br>\n",
    "__Standard Error of the Differences__=0.9930286348<br>\n",
    "__t-statistic__ is calculated by Mean of Differences minus the expected difference which is zero and dividing it by the Standard Error of the Differences which is equal to =  8.0207 whereas our<br>\n",
    "__t-critical__ value is 1.714 for one tailed t-test at _α-level= 0.05_ and for our _degrees of freedom = 23_.<br>\n",
    "As we can see here our t-statistic is much greater than our t-critical value in one tailed test at α=0.05 thus it is falling in the __critical region__ and the p-value is very much less than p-value of 0.05 hence we will <br>__Reject the Null Hypothesis (Ho)__ this means the Participants took  significantly more amount of time to Response in the Incongruent words condition compared to the Congruent words Condition.<br>Since it was an experimental design we can make a causal statement like different word conditions have the causal effect on the  participant's responce time to recognise the colour.<br>\n",
    "And Yes, the results are pretty much matched up with my expectations.\n",
    "<br>\n",
    "<br>"
   ]
  },
  {
   "cell_type": "markdown",
   "metadata": {},
   "source": [
    "__Question 6. Optional: What do you think is responsible for the effects observed? Can you think of an alternative or similar task that would result in a similar effect? Some research about the problem will be helpful for thinking about these two questions!<br>\n",
    "Answer:-__ \n",
    ">We Humans as habitual readers,we perform reading effortlessly whereas declaration of a colour requires more cognitive effort,and When there is a conflict between these two information(word & colour) our cognitive load is increased and our brain needs to concentrate on these differences which will eventually slow down our response time to recognise the colour.<br>\n",
    "kind of task that would result in similar effect is like if we write a name of perticular animal in a bit larger font and in one condition(Congruent) we will put pictures of that animal on the word font that describes animal and in another condition(Incongruent) we will put a different animal's pictures on that word which is referring to another animal regardless of pictures having on the word itself.<br>\n",
    "and here also my expectation is Incongruent condition will take more time to response to recognize the correct animal picture than the Congrgruent condition."
   ]
  }
 ],
 "metadata": {
  "kernelspec": {
   "display_name": "Python 3",
   "language": "python",
   "name": "python3"
  },
  "language_info": {
   "codemirror_mode": {
    "name": "ipython",
    "version": 3
   },
   "file_extension": ".py",
   "mimetype": "text/x-python",
   "name": "python",
   "nbconvert_exporter": "python",
   "pygments_lexer": "ipython3",
   "version": "3.6.4"
  }
 },
 "nbformat": 4,
 "nbformat_minor": 2
}
